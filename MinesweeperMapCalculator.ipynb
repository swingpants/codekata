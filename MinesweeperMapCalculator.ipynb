{
  "nbformat": 4,
  "nbformat_minor": 0,
  "metadata": {
    "colab": {
      "name": "MinesweeperMapCalculator.ipynb",
      "provenance": []
    },
    "kernelspec": {
      "name": "python3",
      "display_name": "Python 3"
    }
  },
  "cells": [
    {
      "cell_type": "markdown",
      "metadata": {
        "id": "gC8l01Yd4HrJ"
      },
      "source": [
        "# **Minesweeper - Map calculator**\n",
        "Jon Howard - 30 min hack"
      ]
    },
    {
      "cell_type": "code",
      "metadata": {
        "id": "B7AIcxN2jJCq"
      },
      "source": [
        "import pandas as pd\n",
        "import numpy as np\n",
        "\n",
        "search_grid = [[-1,-1],[0,-1],[1,-1],[-1,0],[1,0],[-1,1],[0,1],[1,1]]\n",
        "\n",
        "m_width=6\n",
        "m_height = 4\n",
        "#Will read directly fromt hsi string. Would need to format into string if data presented in another form\n",
        "minefield=\"..*..*.*..*.*..*....*...\" \n",
        "\n"
      ],
      "execution_count": 1,
      "outputs": []
    },
    {
      "cell_type": "code",
      "metadata": {
        "id": "dE5XmCcbjhdS"
      },
      "source": [
        "\n",
        "#Set up dataframe to hold the map - init with zeroes\n",
        "df_map = pd.DataFrame(0, index=np.arange(m_height), columns=np.arange(m_width))\n"
      ],
      "execution_count": 2,
      "outputs": []
    },
    {
      "cell_type": "code",
      "metadata": {
        "id": "Dm1CjEhJttfU"
      },
      "source": [
        "#Function that loops through squares adjacent to a bomb. Iterating the map score in each\n",
        "def update_map(map, x_coord, y_coord):\n",
        "\n",
        "  for pos in search_grid: #Loop through search grid\n",
        "\n",
        "    #Calculate grid position to iterate\n",
        "    posx = x_coord+pos[0] \n",
        "    posy = y_coord+pos[1]\n",
        "    #If grid position is actually on the grid...  \n",
        "    if posx >= 0 and posx <m_width and posy>=0 and posy < m_height:\n",
        "      #and the grid position isn't a bomb\n",
        "      if map.iloc[posy,posx]!=\"*\":\n",
        "        map.iloc[posy,posx]=map.iloc[posy,posx]+1 #Iterate\n",
        "\n",
        "  return map\n"
      ],
      "execution_count": 3,
      "outputs": []
    },
    {
      "cell_type": "code",
      "metadata": {
        "id": "4gpVFTz-rMbt"
      },
      "source": [
        "#Loop through the minefield and calculate the map\n",
        "for index, row in df_map.iterrows():\n",
        "  count = 0\n",
        "  for cell in row:\n",
        "    #Only need to update the map if a bomb is found\n",
        "    if minefield[index*m_width+count] == \"*\":\n",
        "      df_map.iloc[index,count]=\"*\" #position is a bomb so mark on map\n",
        "      df_map=update_map(df_map, count, index) #Update the bomb's adjacent squares on the map\n",
        "    count = count +1\n"
      ],
      "execution_count": 4,
      "outputs": []
    },
    {
      "cell_type": "code",
      "metadata": {
        "colab": {
          "base_uri": "https://localhost:8080/"
        },
        "id": "wlmLkOfSyQiW",
        "outputId": "1ff8d709-5d63-4771-a663-98dc95d45c71"
      },
      "source": [
        "#The final map\n",
        "print(df_map)"
      ],
      "execution_count": 5,
      "outputs": [
        {
          "output_type": "stream",
          "text": [
            "   0  1  2  3  4  5\n",
            "0  1  2  *  2  2  *\n",
            "1  2  *  3  3  *  2\n",
            "2  *  3  3  *  2  1\n",
            "3  1  2  *  2  1  0\n"
          ],
          "name": "stdout"
        }
      ]
    }
  ]
}